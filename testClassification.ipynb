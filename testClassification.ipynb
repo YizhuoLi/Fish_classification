{
 "cells": [
  {
   "cell_type": "code",
   "execution_count": 4,
   "metadata": {},
   "outputs": [
    {
     "name": "stdout",
     "output_type": "stream",
     "text": [
      "Using TensorFlow backend.\n",
      "[INFO] loading network...\n",
      "2019-04-24 18:23:29.494945: I tensorflow/core/platform/cpu_feature_guard.cc:141] Your CPU supports instructions that this TensorFlow binary was not compiled to use: AVX2 FMA\n",
      "2019-04-24 18:23:29.674421: I tensorflow/core/common_runtime/gpu/gpu_device.cc:1432] Found device 0 with properties: \n",
      "name: Tesla K80 major: 3 minor: 7 memoryClockRate(GHz): 0.8235\n",
      "pciBusID: 81df:00:00.0\n",
      "totalMemory: 11.17GiB freeMemory: 11.10GiB\n",
      "2019-04-24 18:23:29.783508: I tensorflow/core/common_runtime/gpu/gpu_device.cc:1432] Found device 1 with properties: \n",
      "name: Tesla K80 major: 3 minor: 7 memoryClockRate(GHz): 0.8235\n",
      "pciBusID: a2d1:00:00.0\n",
      "totalMemory: 11.17GiB freeMemory: 11.10GiB\n",
      "2019-04-24 18:23:29.783587: I tensorflow/core/common_runtime/gpu/gpu_device.cc:1511] Adding visible gpu devices: 0, 1\n",
      "2019-04-24 18:23:30.352521: I tensorflow/core/common_runtime/gpu/gpu_device.cc:982] Device interconnect StreamExecutor with strength 1 edge matrix:\n",
      "2019-04-24 18:23:30.352583: I tensorflow/core/common_runtime/gpu/gpu_device.cc:988]      0 1 \n",
      "2019-04-24 18:23:30.352592: I tensorflow/core/common_runtime/gpu/gpu_device.cc:1001] 0:   N N \n",
      "2019-04-24 18:23:30.352603: I tensorflow/core/common_runtime/gpu/gpu_device.cc:1001] 1:   N N \n",
      "2019-04-24 18:23:30.353083: I tensorflow/core/common_runtime/gpu/gpu_device.cc:1115] Created TensorFlow device (/job:localhost/replica:0/task:0/device:GPU:0 with 10759 MB memory) -> physical GPU (device: 0, name: Tesla K80, pci bus id: 81df:00:00.0, compute capability: 3.7)\n",
      "2019-04-24 18:23:30.353481: I tensorflow/core/common_runtime/gpu/gpu_device.cc:1115] Created TensorFlow device (/job:localhost/replica:0/task:0/device:GPU:1 with 10759 MB memory) -> physical GPU (device: 1, name: Tesla K80, pci bus id: a2d1:00:00.0, compute capability: 3.7)\n",
      "WARNING:tensorflow:Variable *= will be deprecated. Use `var.assign(var * other)` if you want assignment to the variable value or `x = x * y` if you want a new python Tensor object.\n",
      "[INFO] classifying image...\n",
      "[INFO] 303: 27.97% (incorrect)\n",
      ": cannot connect to X server \n"
     ]
    }
   ],
   "source": [
    "!python classify.py --model pokedex.model --labelbin lb.pickle --image sample/f00004.jpg"
   ]
  },
  {
   "cell_type": "code",
   "execution_count": 1,
   "metadata": {},
   "outputs": [
    {
     "name": "stdout",
     "output_type": "stream",
     "text": [
      "Using TensorFlow backend.\n",
      "[INFO] loading network...\n",
      "2019-04-24 23:38:39.390158: I tensorflow/core/platform/cpu_feature_guard.cc:141] Your CPU supports instructions that this TensorFlow binary was not compiled to use: AVX2 FMA\n",
      "2019-04-24 23:38:39.581769: I tensorflow/core/common_runtime/gpu/gpu_device.cc:1432] Found device 0 with properties: \n",
      "name: Tesla K80 major: 3 minor: 7 memoryClockRate(GHz): 0.8235\n",
      "pciBusID: 81df:00:00.0\n",
      "totalMemory: 11.17GiB freeMemory: 964.94MiB\n",
      "2019-04-24 23:38:39.730604: I tensorflow/core/common_runtime/gpu/gpu_device.cc:1432] Found device 1 with properties: \n",
      "name: Tesla K80 major: 3 minor: 7 memoryClockRate(GHz): 0.8235\n",
      "pciBusID: a2d1:00:00.0\n",
      "totalMemory: 11.17GiB freeMemory: 11.10GiB\n",
      "2019-04-24 23:38:39.730687: I tensorflow/core/common_runtime/gpu/gpu_device.cc:1511] Adding visible gpu devices: 0, 1\n",
      "2019-04-24 23:38:40.542434: I tensorflow/core/common_runtime/gpu/gpu_device.cc:982] Device interconnect StreamExecutor with strength 1 edge matrix:\n",
      "2019-04-24 23:38:40.542491: I tensorflow/core/common_runtime/gpu/gpu_device.cc:988]      0 1 \n",
      "2019-04-24 23:38:40.542506: I tensorflow/core/common_runtime/gpu/gpu_device.cc:1001] 0:   N N \n",
      "2019-04-24 23:38:40.542516: I tensorflow/core/common_runtime/gpu/gpu_device.cc:1001] 1:   N N \n",
      "2019-04-24 23:38:40.557275: I tensorflow/core/common_runtime/gpu/gpu_device.cc:1115] Created TensorFlow device (/job:localhost/replica:0/task:0/device:GPU:0 with 694 MB memory) -> physical GPU (device: 0, name: Tesla K80, pci bus id: 81df:00:00.0, compute capability: 3.7)\n",
      "2019-04-24 23:38:40.557637: I tensorflow/core/common_runtime/gpu/gpu_device.cc:1115] Created TensorFlow device (/job:localhost/replica:0/task:0/device:GPU:1 with 10759 MB memory) -> physical GPU (device: 1, name: Tesla K80, pci bus id: a2d1:00:00.0, compute capability: 3.7)\n",
      "WARNING:tensorflow:Variable *= will be deprecated. Use `var.assign(var * other)` if you want assignment to the variable value or `x = x * y` if you want a new python Tensor object.\n",
      "[INFO] classifying image...\n",
      "[INFO] Thunnus albacares: 99.42% (incorrect)\n",
      ": cannot connect to X server \n"
     ]
    }
   ],
   "source": [
    "!python classify.py --model transfer.model --labelbin transfer_lb.pickle --image sample/f00004.jpg"
   ]
  },
  {
   "cell_type": "code",
   "execution_count": 2,
   "metadata": {},
   "outputs": [
    {
     "name": "stdout",
     "output_type": "stream",
     "text": [
      "Using TensorFlow backend.\n",
      "[INFO] loading network...\n",
      "2019-04-24 23:43:06.665554: I tensorflow/core/platform/cpu_feature_guard.cc:141] Your CPU supports instructions that this TensorFlow binary was not compiled to use: AVX2 FMA\n",
      "2019-04-24 23:43:06.867958: I tensorflow/core/common_runtime/gpu/gpu_device.cc:1432] Found device 0 with properties: \n",
      "name: Tesla K80 major: 3 minor: 7 memoryClockRate(GHz): 0.8235\n",
      "pciBusID: 81df:00:00.0\n",
      "totalMemory: 11.17GiB freeMemory: 11.10GiB\n",
      "2019-04-24 23:43:06.984173: I tensorflow/core/common_runtime/gpu/gpu_device.cc:1432] Found device 1 with properties: \n",
      "name: Tesla K80 major: 3 minor: 7 memoryClockRate(GHz): 0.8235\n",
      "pciBusID: a2d1:00:00.0\n",
      "totalMemory: 11.17GiB freeMemory: 11.10GiB\n",
      "2019-04-24 23:43:06.984256: I tensorflow/core/common_runtime/gpu/gpu_device.cc:1511] Adding visible gpu devices: 0, 1\n",
      "2019-04-24 23:43:07.557365: I tensorflow/core/common_runtime/gpu/gpu_device.cc:982] Device interconnect StreamExecutor with strength 1 edge matrix:\n",
      "2019-04-24 23:43:07.557422: I tensorflow/core/common_runtime/gpu/gpu_device.cc:988]      0 1 \n",
      "2019-04-24 23:43:07.557437: I tensorflow/core/common_runtime/gpu/gpu_device.cc:1001] 0:   N N \n",
      "2019-04-24 23:43:07.557446: I tensorflow/core/common_runtime/gpu/gpu_device.cc:1001] 1:   N N \n",
      "2019-04-24 23:43:07.557884: I tensorflow/core/common_runtime/gpu/gpu_device.cc:1115] Created TensorFlow device (/job:localhost/replica:0/task:0/device:GPU:0 with 10759 MB memory) -> physical GPU (device: 0, name: Tesla K80, pci bus id: 81df:00:00.0, compute capability: 3.7)\n",
      "2019-04-24 23:43:07.558231: I tensorflow/core/common_runtime/gpu/gpu_device.cc:1115] Created TensorFlow device (/job:localhost/replica:0/task:0/device:GPU:1 with 10759 MB memory) -> physical GPU (device: 1, name: Tesla K80, pci bus id: a2d1:00:00.0, compute capability: 3.7)\n",
      "WARNING:tensorflow:Variable *= will be deprecated. Use `var.assign(var * other)` if you want assignment to the variable value or `x = x * y` if you want a new python Tensor object.\n",
      "[INFO] classifying image...\n",
      "-1\n",
      "[INFO] Seriola dumerili: 99.99% (incorrect)\n",
      ": cannot connect to X server \n"
     ]
    }
   ],
   "source": [
    "!python classify.py --model transfer.model --labelbin transfer_lb.pickle --image sample/f00022.jpg"
   ]
  },
  {
   "cell_type": "code",
   "execution_count": null,
   "metadata": {},
   "outputs": [],
   "source": []
  }
 ],
 "metadata": {
  "kernelspec": {
   "display_name": "Python 3.6 - AzureML",
   "language": "python",
   "name": "python3-azureml"
  },
  "language_info": {
   "codemirror_mode": {
    "name": "ipython",
    "version": 3
   },
   "file_extension": ".py",
   "mimetype": "text/x-python",
   "name": "python",
   "nbconvert_exporter": "python",
   "pygments_lexer": "ipython3",
   "version": "3.6.8"
  }
 },
 "nbformat": 4,
 "nbformat_minor": 2
}
