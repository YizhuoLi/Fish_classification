{
 "cells": [
  {
   "cell_type": "code",
   "execution_count": 2,
   "metadata": {},
   "outputs": [
    {
     "name": "stderr",
     "output_type": "stream",
     "text": [
      "Using TensorFlow backend.\n"
     ]
    }
   ],
   "source": [
    "import pandas as pd\n",
    "import numpy as np\n",
    "import os\n",
    "import keras\n",
    "import matplotlib.pyplot as plt\n",
    "from keras.layers import Dense,GlobalAveragePooling2D\n",
    "from keras.applications import vgg16\n",
    "from keras.preprocessing import image\n",
    "from keras.applications.vgg16 import preprocess_input\n",
    "from keras.preprocessing.image import ImageDataGenerator\n",
    "from keras.models import Model\n",
    "from keras.optimizers import Adam"
   ]
  },
  {
   "cell_type": "code",
   "execution_count": 3,
   "metadata": {},
   "outputs": [],
   "source": [
    "import matplotlib\n",
    "matplotlib.use(\"Agg\")\n",
    "\n",
    "# import the necessary packages\n",
    "from keras.preprocessing.image import ImageDataGenerator\n",
    "from keras.optimizers import Adam\n",
    "from keras.preprocessing.image import img_to_array\n",
    "from sklearn.preprocessing import LabelBinarizer\n",
    "from sklearn.preprocessing import OneHotEncoder\n",
    "from sklearn.model_selection import train_test_split\n",
    "from pyimagesearch.smallervggnet import SmallerVGGNet\n",
    "import matplotlib.pyplot as plt\n",
    "from imutils import paths\n",
    "import numpy as np\n",
    "import argparse\n",
    "import random\n",
    "import pickle\n",
    "import cv2\n",
    "import os"
   ]
  },
  {
   "cell_type": "code",
   "execution_count": 5,
   "metadata": {},
   "outputs": [
    {
     "data": {
      "text/html": [
       "<div>\n",
       "<style scoped>\n",
       "    .dataframe tbody tr th:only-of-type {\n",
       "        vertical-align: middle;\n",
       "    }\n",
       "\n",
       "    .dataframe tbody tr th {\n",
       "        vertical-align: top;\n",
       "    }\n",
       "\n",
       "    .dataframe thead th {\n",
       "        text-align: right;\n",
       "    }\n",
       "</style>\n",
       "<table border=\"1\" class=\"dataframe\">\n",
       "  <thead>\n",
       "    <tr style=\"text-align: right;\">\n",
       "      <th></th>\n",
       "      <th>filename</th>\n",
       "      <th>中文</th>\n",
       "      <th>Binomial name</th>\n",
       "    </tr>\n",
       "  </thead>\n",
       "  <tbody>\n",
       "    <tr>\n",
       "      <th>0</th>\n",
       "      <td>f00001</td>\n",
       "      <td>紅㗋</td>\n",
       "      <td>Doederleinia berycoides</td>\n",
       "    </tr>\n",
       "    <tr>\n",
       "      <th>1</th>\n",
       "      <td>f00002</td>\n",
       "      <td>紅㗋</td>\n",
       "      <td>Doederleinia berycoides</td>\n",
       "    </tr>\n",
       "    <tr>\n",
       "      <th>2</th>\n",
       "      <td>f00003</td>\n",
       "      <td>紅㗋</td>\n",
       "      <td>Doederleinia berycoides</td>\n",
       "    </tr>\n",
       "    <tr>\n",
       "      <th>3</th>\n",
       "      <td>f00004</td>\n",
       "      <td>黃鰭鮪</td>\n",
       "      <td>Thunnus albacares</td>\n",
       "    </tr>\n",
       "    <tr>\n",
       "      <th>4</th>\n",
       "      <td>f00005</td>\n",
       "      <td>黃鰭鮪</td>\n",
       "      <td>Thunnus albacares</td>\n",
       "    </tr>\n",
       "  </tbody>\n",
       "</table>\n",
       "</div>"
      ],
      "text/plain": [
       "  filename   中文            Binomial name\n",
       "0   f00001   紅㗋  Doederleinia berycoides\n",
       "1   f00002   紅㗋  Doederleinia berycoides\n",
       "2   f00003   紅㗋  Doederleinia berycoides\n",
       "3   f00004  黃鰭鮪        Thunnus albacares\n",
       "4   f00005  黃鰭鮪        Thunnus albacares"
      ]
     },
     "execution_count": 5,
     "metadata": {},
     "output_type": "execute_result"
    }
   ],
   "source": [
    "fish_df = pd.read_csv('fishmarket/fish_market_datasets.csv')\n",
    "fish_df.head()"
   ]
  },
  {
   "cell_type": "code",
   "execution_count": 6,
   "metadata": {},
   "outputs": [],
   "source": [
    "label = fish_df['Binomial name']"
   ]
  },
  {
   "cell_type": "code",
   "execution_count": 8,
   "metadata": {},
   "outputs": [],
   "source": [
    "label = list(label)"
   ]
  },
  {
   "cell_type": "code",
   "execution_count": 10,
   "metadata": {},
   "outputs": [
    {
     "data": {
      "text/plain": [
       "array(['Doederleinia berycoides', 'Doederleinia berycoides',\n",
       "       'Doederleinia berycoides', 'Thunnus albacares',\n",
       "       'Thunnus albacares', 'Thunnus albacares', 'Eleutheronema rhadinum',\n",
       "       'Eleutheronema rhadinum', 'Eleutheronema rhadinum',\n",
       "       'Trichiurus japonicus', 'Trichiurus japonicus',\n",
       "       'Trichiurus japonicus', 'Cheilopogon unicolor',\n",
       "       'Cheilopogon unicolor', 'Cheilopogon unicolor',\n",
       "       'Epinephelus hexagonatus', 'Epinephelus hexagonatus',\n",
       "       'Epinephelus hexagonatus', 'Pterocaesio digramma',\n",
       "       'Pterocaesio digramma', 'Pterocaesio digramma', 'Seriola dumerili',\n",
       "       'Seriola dumerili', 'Seriola dumerili', 'Drepane punctata',\n",
       "       'Drepane punctata', 'Drepane punctata', 'Leiognathus equulus',\n",
       "       'Leiognathus equulus', 'Leiognathus equulus',\n",
       "       'Oreochromis mossambicus', 'Oreochromis mossambicus',\n",
       "       'Oreochromis mossambicus', 'Scatophagus argus',\n",
       "       'Scatophagus argus', 'Scatophagus argus', 'Pseudorhombus arsius',\n",
       "       'Pseudorhombus arsius', 'Pseudorhombus arsius',\n",
       "       'Dentex hypselosomus', 'Dentex hypselosomus',\n",
       "       'Dentex hypselosomus', 'Trachinotus blochii',\n",
       "       'Trachinotus blochii', 'Trachinotus blochii',\n",
       "       'Epinephelus quoyanus', 'Epinephelus quoyanus',\n",
       "       'Epinephelus quoyanus', 'Girella leonina', 'Girella leonina',\n",
       "       'Girella leonina', 'Pagrus major', 'Pagrus major', 'Pagrus major',\n",
       "       'Argyrosomus nibe', 'Argyrosomus nibe', 'Argyrosomus nibe',\n",
       "       'Larimichthys crocea', 'Larimichthys crocea',\n",
       "       'Larimichthys crocea', 'Lates calcarifer', 'Lates calcarifer',\n",
       "       'Lates calcarifer', 'Chanos chanos', 'Chanos chanos',\n",
       "       'Chanos chanos', 'Thunnus alalunga', 'Thunnus alalunga',\n",
       "       'Thunnus alalunga', 'Scomberomorus commerson',\n",
       "       'Scomberomorus commerson', 'Scomberomorus commerson',\n",
       "       'Priacanthus macracanthus', 'Priacanthus macracanthus',\n",
       "       'Priacanthus macracanthus', 'Coryphaena hippurus',\n",
       "       'Coryphaena hippurus', 'Coryphaena hippurus',\n",
       "       'Parascolopsis eriomma', 'Parascolopsis eriomma',\n",
       "       'Parascolopsis eriomma', 'Rhabdosargus sarba',\n",
       "       'Rhabdosargus sarba', 'Rhabdosargus sarba', 'Etelis coruscans',\n",
       "       'Etelis coruscans', 'Etelis coruscans', 'Lutjanus monostigma',\n",
       "       'Lutjanus monostigma', 'Lutjanus monostigma',\n",
       "       'Acanthurus dussumieri', 'Acanthurus dussumieri',\n",
       "       'Acanthurus dussumieri', 'Scarus rivulatus', 'Scarus rivulatus',\n",
       "       'Scarus rivulatus', 'Parastromateus niger', 'Parastromateus niger',\n",
       "       'Parastromateus niger', 'Sphyraena japonica', 'Sphyraena japonica',\n",
       "       'Sphyraena japonica', 'Tariqilabeo bicornis',\n",
       "       'Tariqilabeo bicornis', 'Tariqilabeo bicornis',\n",
       "       'Epinephelus areolatus', 'Epinephelus areolatus',\n",
       "       'Epinephelus areolatus', 'Variola louti', 'Variola louti',\n",
       "       'Variola louti'], dtype='<U24')"
      ]
     },
     "execution_count": 10,
     "metadata": {},
     "output_type": "execute_result"
    }
   ],
   "source": [
    "np.array(label)"
   ]
  },
  {
   "cell_type": "code",
   "execution_count": null,
   "metadata": {},
   "outputs": [],
   "source": []
  },
  {
   "cell_type": "code",
   "execution_count": null,
   "metadata": {},
   "outputs": [],
   "source": []
  },
  {
   "cell_type": "code",
   "execution_count": null,
   "metadata": {},
   "outputs": [],
   "source": []
  },
  {
   "cell_type": "code",
   "execution_count": null,
   "metadata": {},
   "outputs": [],
   "source": []
  },
  {
   "cell_type": "code",
   "execution_count": 11,
   "metadata": {},
   "outputs": [
    {
     "name": "stdout",
     "output_type": "stream",
     "text": [
      "WARNING:tensorflow:Variable *= will be deprecated. Use `var.assign(var * other)` if you want assignment to the variable value or `x = x * y` if you want a new python Tensor object.\n"
     ]
    },
    {
     "data": {
      "text/plain": [
       "<keras.models.Sequential at 0x7f131d75a978>"
      ]
     },
     "execution_count": 11,
     "metadata": {},
     "output_type": "execute_result"
    }
   ],
   "source": [
    "from keras.models import load_model\n",
    "base_model = load_model('pokedex.model')\n",
    "base_model"
   ]
  },
  {
   "cell_type": "code",
   "execution_count": 14,
   "metadata": {},
   "outputs": [
    {
     "ename": "NameError",
     "evalue": "name 'INIT_LR' is not defined",
     "output_type": "error",
     "traceback": [
      "\u001b[0;31m---------------------------------------------------------------------------\u001b[0m",
      "\u001b[0;31mNameError\u001b[0m                                 Traceback (most recent call last)",
      "\u001b[0;32m<ipython-input-14-e148e0b28414>\u001b[0m in \u001b[0;36m<module>\u001b[0;34m\u001b[0m\n\u001b[0;32m----> 1\u001b[0;31m \u001b[0mopt\u001b[0m \u001b[0;34m=\u001b[0m \u001b[0mAdam\u001b[0m\u001b[0;34m(\u001b[0m\u001b[0mlr\u001b[0m\u001b[0;34m=\u001b[0m\u001b[0mINIT_LR\u001b[0m\u001b[0;34m,\u001b[0m \u001b[0mdecay\u001b[0m\u001b[0;34m=\u001b[0m\u001b[0mINIT_LR\u001b[0m \u001b[0;34m/\u001b[0m \u001b[0mEPOCHS\u001b[0m\u001b[0;34m)\u001b[0m\u001b[0;34m\u001b[0m\u001b[0;34m\u001b[0m\u001b[0m\n\u001b[0m\u001b[1;32m      2\u001b[0m base_model.compile(loss=\"categorical_crossentropy\", optimizer=opt,\n\u001b[1;32m      3\u001b[0m \tmetrics=[\"accuracy\"])\n",
      "\u001b[0;31mNameError\u001b[0m: name 'INIT_LR' is not defined"
     ]
    }
   ],
   "source": [
    "opt = Adam(lr=INIT_LR, decay=INIT_LR / EPOCHS)\n",
    "base_model.compile(loss=\"categorical_crossentropy\", optimizer=opt,\n",
    "\tmetrics=[\"accuracy\"])"
   ]
  },
  {
   "cell_type": "code",
   "execution_count": 30,
   "metadata": {},
   "outputs": [],
   "source": [
    "x=base_model.output\n",
    "# x=GlobalAveragePooling2D()(x)\n",
    "# x=Dense(1024,activation='relu')(x) #we add dense layers so that the model can learn more complex functions and classify for better results.\n",
    "# x=Dense(1024,activation='relu')(x) #dense layer 2\n",
    "# x=Dense(512,activation='relu')(x) #dense layer 3\n",
    "preds=Dense(32,activation='softmax')(x) #final layer with softmax activation"
   ]
  },
  {
   "cell_type": "code",
   "execution_count": 31,
   "metadata": {},
   "outputs": [],
   "source": [
    "model=Model(inputs=base_model.input,outputs=preds)\n",
    "#specify the inputs\n",
    "#specify the outputs\n",
    "#now a model has been created based on our architecture"
   ]
  },
  {
   "cell_type": "code",
   "execution_count": 32,
   "metadata": {},
   "outputs": [
    {
     "name": "stdout",
     "output_type": "stream",
     "text": [
      "0 conv2d_1_input\n",
      "1 conv2d_1\n",
      "2 activation_1\n",
      "3 batch_normalization_1\n",
      "4 max_pooling2d_1\n",
      "5 dropout_1\n",
      "6 conv2d_2\n",
      "7 activation_2\n",
      "8 batch_normalization_2\n",
      "9 conv2d_3\n",
      "10 activation_3\n",
      "11 batch_normalization_3\n",
      "12 max_pooling2d_2\n",
      "13 dropout_2\n",
      "14 conv2d_4\n",
      "15 activation_4\n",
      "16 batch_normalization_4\n",
      "17 conv2d_5\n",
      "18 activation_5\n",
      "19 batch_normalization_5\n",
      "20 max_pooling2d_3\n",
      "21 dropout_3\n",
      "22 flatten_1\n",
      "23 dense_1\n",
      "24 activation_6\n",
      "25 batch_normalization_6\n",
      "26 dropout_4\n",
      "27 dense_2\n",
      "28 activation_7\n",
      "29 dense_3\n"
     ]
    }
   ],
   "source": [
    "for i,layer in enumerate(model.layers):\n",
    "  print(i,layer.name)"
   ]
  },
  {
   "cell_type": "code",
   "execution_count": 33,
   "metadata": {},
   "outputs": [
    {
     "data": {
      "text/plain": [
       "[6]"
      ]
     },
     "execution_count": 33,
     "metadata": {},
     "output_type": "execute_result"
    }
   ],
   "source": [
    "a = [1,2,3,4,5,6]\n",
    "a[-1:]"
   ]
  },
  {
   "cell_type": "code",
   "execution_count": 34,
   "metadata": {},
   "outputs": [],
   "source": [
    "for layer in model.layers:\n",
    "    layer.trainable=False\n",
    "for layer in model.layers[-1:]:\n",
    "    layer.trainable=True"
   ]
  },
  {
   "cell_type": "code",
   "execution_count": null,
   "metadata": {},
   "outputs": [],
   "source": [
    "train_datagen=ImageDataGenerator(preprocessing_function=preprocess_input) #included in our dependencies\n",
    "\n",
    "train_generator=train_datagen.flow_from_directory('./train/', # this is where you specify the path to the main data folder\n",
    "                                                 target_size=(224,224),\n",
    "                                                 color_mode='rgb',\n",
    "                                                 batch_size=32,\n",
    "                                                 class_mode='categorical',\n",
    "                                                 shuffle=True)"
   ]
  },
  {
   "cell_type": "code",
   "execution_count": null,
   "metadata": {},
   "outputs": [],
   "source": [
    "model.compile(optimizer='Adam',loss='categorical_crossentropy',metrics=['accuracy'])\n",
    "# Adam optimizer\n",
    "# loss function will be categorical cross entropy\n",
    "# evaluation metric will be accuracy\n",
    "\n",
    "step_size_train=train_generator.n//train_generator.batch_size\n",
    "model.fit_generator(generator=train_generator,\n",
    "                   steps_per_epoch=step_size_train,\n",
    "                   epochs=5)"
   ]
  }
 ],
 "metadata": {
  "kernelspec": {
   "display_name": "Python 3.6 - AzureML",
   "language": "python",
   "name": "python3-azureml"
  },
  "language_info": {
   "codemirror_mode": {
    "name": "ipython",
    "version": 3
   },
   "file_extension": ".py",
   "mimetype": "text/x-python",
   "name": "python",
   "nbconvert_exporter": "python",
   "pygments_lexer": "ipython3",
   "version": "3.6.8"
  }
 },
 "nbformat": 4,
 "nbformat_minor": 2
}
